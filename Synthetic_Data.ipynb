{
  "nbformat": 4,
  "nbformat_minor": 0,
  "metadata": {
    "colab": {
      "provenance": []
    },
    "kernelspec": {
      "name": "python3",
      "display_name": "Python 3"
    },
    "language_info": {
      "name": "python"
    }
  },
  "cells": [
    {
      "cell_type": "code",
      "execution_count": 1,
      "metadata": {
        "id": "uCCspHe6qScS"
      },
      "outputs": [],
      "source": [
        "import numpy as np\n",
        "import pandas as pd\n",
        "import random\n",
        "from random import random\n",
        "from random import seed\n",
        "from random import randint"
      ]
    },
    {
      "cell_type": "code",
      "source": [
        "def generate_data(X, J, m1, beta, sigma, theta, dummy):\n",
        "    \n",
        "    pvec = np.empty(n)\n",
        "    #pvec = np.exp((-1/70)*np.linspace(0, 5000, 5000))\n",
        "    \n",
        "    itp = 0\n",
        "    ii = 0\n",
        "    jj = 0\n",
        "    tt = 0\n",
        "    \n",
        "    for i in range(0, n):\n",
        "        \n",
        "        M_m1 = m1*(1 - beta) # media di una binomiale\n",
        "        u = random()\n",
        "        v = random()\n",
        "        \n",
        "        if (u > beta):\n",
        "            # 1: specie contaminante nuova\n",
        "            X[i] = dummy\n",
        "            J[i] = 0\n",
        "            dummy = dummy + 1\n",
        "            m1 = m1 + 1\n",
        "            tt = tt + 1\n",
        "  \n",
        "        elif (u <= beta):\n",
        "            p = (theta + (dummy - M_m1)*sigma) / (theta + i - M_m1)\n",
        "            #p = 1 - (theta + dummy)/n\n",
        "            pvec[itp] = p\n",
        "            #p = pvec[i-tt]\n",
        "            itp = itp + 1\n",
        "            \n",
        "            if (v < p):\n",
        "                # 2: specie non contaminante nuova\n",
        "                X[i] = dummy\n",
        "                J[i] = 1\n",
        "                dummy = dummy + 1\n",
        "                m1 = m1 + 1\n",
        "                ii = ii + 1\n",
        "                \n",
        "            else:\n",
        "                jj = jj + 1\n",
        "                t = randint(0, i-1)\n",
        "                \n",
        "                while (J[t] == 0):\n",
        "                    t = randint(1, i-1)\n",
        "                    \n",
        "                count = np.count_nonzero(X == X[t])\n",
        "                \n",
        "                # 3: non contaminante, freq 1\n",
        "                if (count == 1):\n",
        "                    # se quel valore l'ho già incontrato solo una volta\n",
        "                    X[i] = X[t]\n",
        "                    m1 = m1 - 1\n",
        "                    J[i] = 1\n",
        "                \n",
        "                else:\n",
        "                    # 4: non contaminante, freq > 1\n",
        "                    X[i] = X[t]\n",
        "                    J[i] = 1\n",
        "    \n",
        "    pvec = pvec[:ii]\n",
        "    print('generated ', tt, 'contaminated singletons')\n",
        "    print('generated ', ii, 'non contaminated singletons')\n",
        "    print('generated ', jj, 'already observed species')\n",
        "    print('sum should be total observations ->', ii+tt+jj)\n",
        "    return X, m1, dummy\n",
        "                \n",
        "  \n",
        "  # taglio di J, ovvero\n",
        "  # controlla in X tutti quelli che hanno frequenza >1 e elimina i valori di J in tutti gli\n",
        "  # indici dove compare quel numero"
      ],
      "metadata": {
        "id": "-jfzLu-6JOPm"
      },
      "execution_count": 4,
      "outputs": []
    },
    {
      "cell_type": "code",
      "source": [
        "for i in range(10):\n",
        "    \n",
        "    n = 25000\n",
        "    X = np.empty(n)\n",
        "    beta = 1\n",
        "    sigma = 0.2\n",
        "    theta = 100\n",
        "    J = np.empty(n)\n",
        "    clust = 0\n",
        "    m1 = 0\n",
        "    X, m1, clust = generate_data(X, J, m1, beta, sigma, theta, clust)\n",
        "    pd.DataFrame(X).to_csv(\"nc_synthetic_data_%s.csv\" %i)"
      ],
      "metadata": {
        "colab": {
          "base_uri": "https://localhost:8080/"
        },
        "id": "RMO3-keI1u3H",
        "outputId": "a1efc32c-0911-4db8-e961-453c73a13e11"
      },
      "execution_count": 5,
      "outputs": [
        {
          "output_type": "stream",
          "name": "stdout",
          "text": [
            "generated  0 contaminated singletons\n",
            "generated  1029 non contaminated singletons\n",
            "generated  23971 already observed species\n",
            "sum should be total observations -> 25000\n",
            "generated  0 contaminated singletons\n",
            "generated  1062 non contaminated singletons\n",
            "generated  23938 already observed species\n",
            "sum should be total observations -> 25000\n",
            "generated  0 contaminated singletons\n",
            "generated  1055 non contaminated singletons\n",
            "generated  23945 already observed species\n",
            "sum should be total observations -> 25000\n",
            "generated  0 contaminated singletons\n",
            "generated  1032 non contaminated singletons\n",
            "generated  23968 already observed species\n",
            "sum should be total observations -> 25000\n",
            "generated  0 contaminated singletons\n",
            "generated  1024 non contaminated singletons\n",
            "generated  23976 already observed species\n",
            "sum should be total observations -> 25000\n",
            "generated  0 contaminated singletons\n",
            "generated  1038 non contaminated singletons\n",
            "generated  23962 already observed species\n",
            "sum should be total observations -> 25000\n",
            "generated  0 contaminated singletons\n",
            "generated  1134 non contaminated singletons\n",
            "generated  23866 already observed species\n",
            "sum should be total observations -> 25000\n",
            "generated  0 contaminated singletons\n",
            "generated  987 non contaminated singletons\n",
            "generated  24013 already observed species\n",
            "sum should be total observations -> 25000\n",
            "generated  0 contaminated singletons\n",
            "generated  993 non contaminated singletons\n",
            "generated  24007 already observed species\n",
            "sum should be total observations -> 25000\n",
            "generated  0 contaminated singletons\n",
            "generated  1000 non contaminated singletons\n",
            "generated  24000 already observed species\n",
            "sum should be total observations -> 25000\n"
          ]
        }
      ]
    }
  ]
}